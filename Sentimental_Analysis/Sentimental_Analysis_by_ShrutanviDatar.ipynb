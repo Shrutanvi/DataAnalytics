{
 "cells": [
  {
   "cell_type": "code",
   "execution_count": 257,
   "id": "7f8421d9",
   "metadata": {},
   "outputs": [],
   "source": [
    "# print all the outputs in a cell\n",
    "from IPython.core.interactiveshell import InteractiveShell\n",
    "InteractiveShell.ast_node_interactivity = \"all\""
   ]
  },
  {
   "cell_type": "code",
   "execution_count": 258,
   "id": "ee1da22f",
   "metadata": {
    "scrolled": false
   },
   "outputs": [
    {
     "data": {
      "application/javascript": [
       "IPython.notebook.set_autosave_interval(50000)"
      ]
     },
     "metadata": {},
     "output_type": "display_data"
    },
    {
     "name": "stdout",
     "output_type": "stream",
     "text": [
      "Autosaving every 50 seconds\n"
     ]
    }
   ],
   "source": [
    "%autosave 50 "
   ]
  },
  {
   "cell_type": "code",
   "execution_count": 259,
   "id": "c19a6c5e",
   "metadata": {},
   "outputs": [],
   "source": [
    "import re"
   ]
  },
  {
   "cell_type": "code",
   "execution_count": 260,
   "id": "8e916bb5",
   "metadata": {},
   "outputs": [],
   "source": [
    "with open(\"tesla.txt\", \"r\", encoding='unicode-escape') as tesla:\n",
    "    tesla_data = tesla.read()"
   ]
  },
  {
   "cell_type": "code",
   "execution_count": 261,
   "id": "b1801b68",
   "metadata": {
    "scrolled": true
   },
   "outputs": [],
   "source": [
    "tesla_data_cleaned = tesla_data.replace('â¦', ' ...').replace('\"b\"RT', ' ').replace('@', '').replace(\"'b'\", \"\").replace(\"b'\", \"\").replace(\"'b\\\"\", \"\")\n",
    "tesla_data_cleaned = re.sub(r\"(@\\[A-Za-z0-9]+)|([^0-9A-Za-z \\t])|(\\w+:\\/\\/\\S+)|^rt|http.+?\", \"\", tesla_data_cleaned)\n",
    "tesla_data_cleaned = tesla_data_cleaned.lower()\n",
    "tesla_data_cleaned = \" \".join(tesla_data_cleaned.split())"
   ]
  },
  {
   "cell_type": "code",
   "execution_count": 262,
   "id": "016e7da5",
   "metadata": {},
   "outputs": [],
   "source": [
    "tesla_dict = {}\n",
    "for word in tesla_data_cleaned.split():\n",
    "    if word in tesla_dict:\n",
    "        tesla_dict[word] += 1\n",
    "    else:\n",
    "        tesla_dict[word] = 1"
   ]
  },
  {
   "cell_type": "code",
   "execution_count": 263,
   "id": "ce4170f7",
   "metadata": {},
   "outputs": [],
   "source": [
    "positive_list = []\n",
    "negative_list = []\n",
    "stopwords_list = []"
   ]
  },
  {
   "cell_type": "code",
   "execution_count": 264,
   "id": "eebbf696",
   "metadata": {},
   "outputs": [],
   "source": [
    "with open(\"Positive_words.txt\") as positive:    \n",
    "    for line in positive:\n",
    "        for word in line.split():\n",
    "            word = word.strip().lower()\n",
    "            positive_list.append(word)"
   ]
  },
  {
   "cell_type": "code",
   "execution_count": 265,
   "id": "f62e0642",
   "metadata": {},
   "outputs": [],
   "source": [
    "with open(\"negative-words.txt\") as negative:    \n",
    "    for line in negative:\n",
    "        for word in line.split():\n",
    "            word = word.strip().lower()\n",
    "            negative_list.append(word)"
   ]
  },
  {
   "cell_type": "code",
   "execution_count": 266,
   "id": "0c3b9e88",
   "metadata": {},
   "outputs": [],
   "source": [
    "with open(\"Stopword_file.txt\") as stopwords:    \n",
    "    for line in stopwords:\n",
    "        for word in line.split():\n",
    "            word = word.strip().lower()\n",
    "            stopwords_list.append(word)"
   ]
  },
  {
   "cell_type": "code",
   "execution_count": 267,
   "id": "f69d3996",
   "metadata": {},
   "outputs": [],
   "source": [
    "positive_total = 0\n",
    "negative_total = 0\n",
    "stopwords_total = 0\n",
    "others_total = 0"
   ]
  },
  {
   "cell_type": "code",
   "execution_count": 268,
   "id": "37ee6e68",
   "metadata": {},
   "outputs": [],
   "source": [
    "for k,v in tesla_dict.items():\n",
    "    if k in positive_list:\n",
    "        positive_total += v\n",
    "    elif k in negative_list:\n",
    "        negative_total += v\n",
    "    elif k in stopwords_list:\n",
    "        stopwords_total += v\n",
    "    else:\n",
    "        others_total += v"
   ]
  },
  {
   "cell_type": "code",
   "execution_count": 269,
   "id": "0407460e",
   "metadata": {},
   "outputs": [],
   "source": [
    "total_word_count = positive_total + negative_total + stopwords_total + others_total"
   ]
  },
  {
   "cell_type": "code",
   "execution_count": 283,
   "id": "af883c61",
   "metadata": {},
   "outputs": [
    {
     "name": "stdout",
     "output_type": "stream",
     "text": [
      "The total word count of positive words is 1135.\n",
      "The total word count of negative words is 1883.\n",
      "The total word count of stop words is 27516.\n",
      "The total word count of other words is 26759.\n"
     ]
    }
   ],
   "source": [
    "print(\"The total word count of positive words is\",str(positive_total)+'.')\n",
    "print(\"The total word count of negative words is\",str(negative_total)+'.')\n",
    "print(\"The total word count of stop words is\",str(stopwords_total)+'.')\n",
    "print(\"The total word count of other words is\", str(others_total)+'.')"
   ]
  },
  {
   "cell_type": "code",
   "execution_count": 282,
   "id": "ea9fc0a4",
   "metadata": {},
   "outputs": [
    {
     "name": "stdout",
     "output_type": "stream",
     "text": [
      "The ratio of positive word count to total word count is 0.02.\n",
      "The ratio of negative word count to total word count is 0.033.\n",
      "The ratio of stopwords count to total word count is 0.48.\n",
      "The ratio of other words count to total word count is 0.467.\n"
     ]
    }
   ],
   "source": [
    "print(\"The ratio of positive word count to total word count is\", str(round(positive_total/total_word_count, 3))+'.')\n",
    "print(\"The ratio of negative word count to total word count is\", str(round(negative_total/total_word_count, 3))+'.')\n",
    "print(\"The ratio of stopwords count to total word count is\", str(round(stopwords_total/total_word_count, 3))+'.')\n",
    "print(\"The ratio of other words count to total word count is\", str(round(others_total/total_word_count, 3))+'.')"
   ]
  },
  {
   "cell_type": "code",
   "execution_count": 280,
   "id": "e6398c82",
   "metadata": {},
   "outputs": [
    {
     "name": "stdout",
     "output_type": "stream",
     "text": [
      "The ratio of positive word count to negative word count is 0.603.\n"
     ]
    }
   ],
   "source": [
    "print(\"The ratio of positive word count to negative word count is \"+ str(round(positive_total/negative_total, 3)) + '.')"
   ]
  },
  {
   "cell_type": "code",
   "execution_count": 274,
   "id": "de42fb40",
   "metadata": {},
   "outputs": [
    {
     "name": "stdout",
     "output_type": "stream",
     "text": [
      "The general sentiment about Tesla on twitter is negative.\n"
     ]
    }
   ],
   "source": [
    "print(\"The general sentiment about Tesla on twitter is negative.\")"
   ]
  }
 ],
 "metadata": {
  "kernelspec": {
   "display_name": "Python 3 (ipykernel)",
   "language": "python",
   "name": "python3"
  },
  "language_info": {
   "codemirror_mode": {
    "name": "ipython",
    "version": 3
   },
   "file_extension": ".py",
   "mimetype": "text/x-python",
   "name": "python",
   "nbconvert_exporter": "python",
   "pygments_lexer": "ipython3",
   "version": "3.9.12"
  }
 },
 "nbformat": 4,
 "nbformat_minor": 5
}
