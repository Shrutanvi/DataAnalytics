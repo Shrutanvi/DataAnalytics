{
 "cells": [
  {
   "cell_type": "markdown",
   "id": "250dc25b",
   "metadata": {},
   "source": [
    "**Analyzing the overall sentiment about Tesla on twitter**"
   ]
  },
  {
   "cell_type": "code",
   "execution_count": 333,
   "id": "7f8421d9",
   "metadata": {},
   "outputs": [],
   "source": [
    "# print all the outputs in a cell\n",
    "from IPython.core.interactiveshell import InteractiveShell\n",
    "InteractiveShell.ast_node_interactivity = \"all\""
   ]
  },
  {
   "cell_type": "code",
   "execution_count": 334,
   "id": "ee1da22f",
   "metadata": {
    "scrolled": false
   },
   "outputs": [
    {
     "data": {
      "application/javascript": [
       "IPython.notebook.set_autosave_interval(50000)"
      ]
     },
     "metadata": {},
     "output_type": "display_data"
    },
    {
     "name": "stdout",
     "output_type": "stream",
     "text": [
      "Autosaving every 50 seconds\n"
     ]
    }
   ],
   "source": [
    "%autosave 50 "
   ]
  },
  {
   "cell_type": "code",
   "execution_count": 335,
   "id": "c19a6c5e",
   "metadata": {},
   "outputs": [],
   "source": [
    "import re"
   ]
  },
  {
   "cell_type": "markdown",
   "id": "18566c6f",
   "metadata": {},
   "source": [
    "Opening the tesla.txt file and simultaneously removing the unicode characters."
   ]
  },
  {
   "cell_type": "code",
   "execution_count": 336,
   "id": "8e916bb5",
   "metadata": {},
   "outputs": [],
   "source": [
    "with open(\"tesla.txt\", \"r\", encoding='unicode-escape') as tesla:\n",
    "    tesla_data = tesla.read()"
   ]
  },
  {
   "cell_type": "markdown",
   "id": "75896f98",
   "metadata": {},
   "source": [
    "Cleaning the Tesla file here:\n",
    " \n",
    " -Firstly, cleaning the file using the replace method and by replacing all the irregular characters.\n",
    " \n",
    " -Then using the regular expressions, replacing all the characters with space.\n",
    " \n",
    " -Then converting the whole text into lower case so that the comparison can be consistent.\n",
    " \n",
    " -'.join' removed the additional spaces in the text and then by using .split' function, I was able to remove '\\n' characters."
   ]
  },
  {
   "cell_type": "code",
   "execution_count": 337,
   "id": "b1801b68",
   "metadata": {
    "scrolled": true
   },
   "outputs": [],
   "source": [
    "tesla_data_cleaned = tesla_data.replace('â¦', ' ...').replace('\"b\"RT', ' ').replace('@', '').replace(\"'b'\", \"\").replace(\"b'\", \"\").replace(\"'b\\\"\", \"\")\n",
    "tesla_data_cleaned = re.sub(r\"(@\\[A-Za-z0-9]+)|([^0-9A-Za-z \\t])|(\\w+:\\/\\/\\S+)|^rt|http.+?\", \"\", tesla_data_cleaned)\n",
    "tesla_data_cleaned = tesla_data_cleaned.lower()\n",
    "tesla_data_cleaned = \" \".join(tesla_data_cleaned.split())"
   ]
  },
  {
   "cell_type": "markdown",
   "id": "5858986f",
   "metadata": {},
   "source": [
    "Creating dictionary to store the word and their count from the tesla file using a for loop."
   ]
  },
  {
   "cell_type": "code",
   "execution_count": 338,
   "id": "016e7da5",
   "metadata": {},
   "outputs": [],
   "source": [
    "tesla_dict = {}\n",
    "for word in tesla_data_cleaned.split():\n",
    "    if word in tesla_dict:\n",
    "        tesla_dict[word] += 1\n",
    "    else:\n",
    "        tesla_dict[word] = 1"
   ]
  },
  {
   "cell_type": "markdown",
   "id": "8c21709f",
   "metadata": {},
   "source": [
    "Creating positive, negative and stopwords set to store the respective words."
   ]
  },
  {
   "cell_type": "code",
   "execution_count": 339,
   "id": "ce4170f7",
   "metadata": {},
   "outputs": [],
   "source": [
    "positive_set = set()\n",
    "negative_set = set()\n",
    "stopwords_set = set()"
   ]
  },
  {
   "cell_type": "markdown",
   "id": "8edbd1d7",
   "metadata": {},
   "source": [
    "Accessing the file and using the 'for' loop, adding all the words in the positive file to the positive_set after converting them to lower case."
   ]
  },
  {
   "cell_type": "code",
   "execution_count": 340,
   "id": "eebbf696",
   "metadata": {},
   "outputs": [],
   "source": [
    "with open(\"Positive_words.txt\") as positive:    \n",
    "    for line in positive:\n",
    "        for word in line.split():\n",
    "            word = word.strip().lower()\n",
    "            positive_set.add(word)"
   ]
  },
  {
   "cell_type": "markdown",
   "id": "d19f0e5e",
   "metadata": {},
   "source": [
    "Accessing the file and using the 'for' loop, adding all the words in the negative file to the negative_set after converting them to lower case."
   ]
  },
  {
   "cell_type": "code",
   "execution_count": 341,
   "id": "9850be12",
   "metadata": {},
   "outputs": [],
   "source": [
    "with open(\"negative-words.txt\") as negative:    \n",
    "    for line in negative:\n",
    "        for word in line.split():\n",
    "            word = word.strip().lower()\n",
    "            negative_set.add(word)"
   ]
  },
  {
   "cell_type": "markdown",
   "id": "40898022",
   "metadata": {},
   "source": [
    "Accessing the file and using the 'for' loop, adding all the words in the stopwords file to the stopwords_set after converting them to lower case."
   ]
  },
  {
   "cell_type": "code",
   "execution_count": 342,
   "id": "b89fa58b",
   "metadata": {},
   "outputs": [],
   "source": [
    "with open(\"Stopword_file.txt\") as stopwords:    \n",
    "    for line in stopwords:\n",
    "        for word in line.split():\n",
    "            word = word.strip().lower()\n",
    "            stopwords_set.add(word)"
   ]
  },
  {
   "cell_type": "markdown",
   "id": "25c3c783",
   "metadata": {},
   "source": [
    "Counting the number of positive, negative, stopwords and other words from the dictionary using a 'for' loop."
   ]
  },
  {
   "cell_type": "code",
   "execution_count": 343,
   "id": "8389bce3",
   "metadata": {},
   "outputs": [],
   "source": [
    "positive_total = 0\n",
    "negative_total = 0\n",
    "stopwords_total = 0\n",
    "others_total = 0"
   ]
  },
  {
   "cell_type": "code",
   "execution_count": 344,
   "id": "947b7957",
   "metadata": {},
   "outputs": [],
   "source": [
    "for k,v in tesla_dict.items():\n",
    "    if k in positive_set:\n",
    "        positive_total += v\n",
    "    elif k in negative_set:\n",
    "        negative_total += v\n",
    "    elif k in stopwords_set:\n",
    "        stopwords_total += v\n",
    "    else:\n",
    "        others_total += v"
   ]
  },
  {
   "cell_type": "markdown",
   "id": "3bd92481",
   "metadata": {},
   "source": [
    "Calculating the total word count."
   ]
  },
  {
   "cell_type": "code",
   "execution_count": 345,
   "id": "98576936",
   "metadata": {},
   "outputs": [],
   "source": [
    "total_word_count = positive_total + negative_total + stopwords_total + others_total"
   ]
  },
  {
   "cell_type": "code",
   "execution_count": 346,
   "id": "10bd3768",
   "metadata": {},
   "outputs": [
    {
     "name": "stdout",
     "output_type": "stream",
     "text": [
      "The total count of Positive words is 1135.\n",
      "The total count of Negative words is 1883.\n",
      "TThe total count of Stop words is 27516.\n",
      "The total count of Other words is 26759.\n",
      "The total word count is 57293.\n"
     ]
    }
   ],
   "source": [
    "print(\"The total count of Positive words is\",str(positive_total)+'.')\n",
    "print(\"The total count of Negative words is\",str(negative_total)+'.')\n",
    "print(\"TThe total count of Stop words is\",str(stopwords_total)+'.')\n",
    "print(\"The total count of Other words is\", str(others_total)+'.')\n",
    "print(\"The total word count is\", str(total_word_count)+'.')"
   ]
  },
  {
   "cell_type": "markdown",
   "id": "f11dac1c",
   "metadata": {},
   "source": [
    "Calculating the ratio of positive, negative, stopwords and others to the total word count."
   ]
  },
  {
   "cell_type": "code",
   "execution_count": 347,
   "id": "16756c7a",
   "metadata": {},
   "outputs": [
    {
     "name": "stdout",
     "output_type": "stream",
     "text": [
      "The ratio of positive word count to total word count is 0.02.\n",
      "The ratio of negative word count to total word count is 0.03.\n",
      "The ratio of stopwords count to total word count is 0.48.\n",
      "The ratio of other words count to total word count is 0.47.\n"
     ]
    }
   ],
   "source": [
    "print(\"The ratio of positive word count to total word count is\", str(round(positive_total/total_word_count, 2))+'.')\n",
    "print(\"The ratio of negative word count to total word count is\", str(round(negative_total/total_word_count, 2))+'.')\n",
    "print(\"The ratio of stopwords count to total word count is\", str(round(stopwords_total/total_word_count, 2))+'.')\n",
    "print(\"The ratio of other words count to total word count is\", str(round(others_total/total_word_count, 2))+'.')"
   ]
  },
  {
   "cell_type": "code",
   "execution_count": 348,
   "id": "94dabbc7",
   "metadata": {},
   "outputs": [
    {
     "name": "stdout",
     "output_type": "stream",
     "text": [
      "The ratio of positive word count to negative word count is 0.6.\n"
     ]
    }
   ],
   "source": [
    "print(\"The ratio of positive word count to negative word count is\", str(round(positive_total/negative_total, 2))+'.')"
   ]
  },
  {
   "cell_type": "markdown",
   "id": "3ce1617e",
   "metadata": {},
   "source": [
    "**Conclusion:** The ratio of positive to negative words is 0.60 i.e. for every 100 negative words there are only 60 positive words. So, I strongly feel that the general sentiment about Tesla is negative on twitter from the data which was acquired."
   ]
  }
 ],
 "metadata": {
  "kernelspec": {
   "display_name": "Python 3 (ipykernel)",
   "language": "python",
   "name": "python3"
  },
  "language_info": {
   "codemirror_mode": {
    "name": "ipython",
    "version": 3
   },
   "file_extension": ".py",
   "mimetype": "text/x-python",
   "name": "python",
   "nbconvert_exporter": "python",
   "pygments_lexer": "ipython3",
   "version": "3.9.12"
  }
 },
 "nbformat": 4,
 "nbformat_minor": 5
}
